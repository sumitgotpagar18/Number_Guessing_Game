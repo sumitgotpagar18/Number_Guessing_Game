{
 "cells": [
  {
   "cell_type": "code",
   "execution_count": null,
   "id": "f62a7fda-9e9c-4f23-9a54-7a06c33cedc9",
   "metadata": {},
   "outputs": [
    {
     "name": "stdout",
     "output_type": "stream",
     "text": [
      "I have picked a number between 1 and 100. You have 10 attempts.\n"
     ]
    },
    {
     "name": "stdin",
     "output_type": "stream",
     "text": [
      "Guess a number between 1 and 100:  25\n"
     ]
    },
    {
     "name": "stdout",
     "output_type": "stream",
     "text": [
      "📉 Too low.\n",
      "You have 9 attempts left. Try again!\n",
      "\n"
     ]
    },
    {
     "name": "stdin",
     "output_type": "stream",
     "text": [
      "Guess a number between 1 and 100:  54\n"
     ]
    },
    {
     "name": "stdout",
     "output_type": "stream",
     "text": [
      "📉 Too low.\n",
      "You have 8 attempts left. Try again!\n",
      "\n"
     ]
    },
    {
     "name": "stdin",
     "output_type": "stream",
     "text": [
      "Guess a number between 1 and 100:  80\n"
     ]
    },
    {
     "name": "stdout",
     "output_type": "stream",
     "text": [
      "📈 Too high.\n",
      "You have 7 attempts left. Try again!\n",
      "\n"
     ]
    },
    {
     "name": "stdin",
     "output_type": "stream",
     "text": [
      "Guess a number between 1 and 100:  60\n"
     ]
    },
    {
     "name": "stdout",
     "output_type": "stream",
     "text": [
      "📉 Too low.\n",
      "You have 6 attempts left. Try again!\n",
      "\n"
     ]
    },
    {
     "name": "stdin",
     "output_type": "stream",
     "text": [
      "Guess a number between 1 and 100:  70\n"
     ]
    },
    {
     "name": "stdout",
     "output_type": "stream",
     "text": [
      "📉 Too low.\n",
      "You have 5 attempts left. Try again!\n",
      "\n"
     ]
    },
    {
     "name": "stdin",
     "output_type": "stream",
     "text": [
      "Guess a number between 1 and 100:  75\n"
     ]
    },
    {
     "name": "stdout",
     "output_type": "stream",
     "text": [
      "📈 Too high.\n",
      "You have 4 attempts left. Try again!\n",
      "\n"
     ]
    },
    {
     "name": "stdin",
     "output_type": "stream",
     "text": [
      "Guess a number between 1 and 100:  71\n"
     ]
    },
    {
     "name": "stdout",
     "output_type": "stream",
     "text": [
      "📉 Too low.\n",
      "You have 3 attempts left. Try again!\n",
      "\n"
     ]
    }
   ],
   "source": [
    "import random\n",
    "\n",
    "def get_guess(lower, upper):\n",
    "    \"\"\"Prompt the user until a valid integer within bounds is entered.\"\"\"\n",
    "    while True:\n",
    "        try:\n",
    "            guess = int(input(f\"Guess a number between {lower} and {upper}: \"))\n",
    "            if lower <= guess <= upper:\n",
    "                return guess\n",
    "            print(f\"Please enter a number in range {lower}–{upper}.\")\n",
    "        except ValueError:\n",
    "            print(\"That's not a valid integer. Try again!\")\n",
    "\n",
    "def play_game(lower=1, upper=100, max_attempts=10):\n",
    "    secret = random.randint(lower, upper)\n",
    "    print(f\"I have picked a number between {lower} and {upper}. You have {max_attempts} attempts.\")\n",
    "\n",
    "    for attempt in range(1, max_attempts + 1):\n",
    "        guess = get_guess(lower, upper)\n",
    "        if guess == secret:\n",
    "            print(f\"✅ Correct! You got it in {attempt} attempts.\")\n",
    "            break\n",
    "        elif guess < secret:\n",
    "            print(\"📉 Too low.\")\n",
    "        else:\n",
    "            print(\"📈 Too high.\")\n",
    "        remaining = max_attempts - attempt\n",
    "        if remaining:\n",
    "            print(f\"You have {remaining} attempts left. Try again!\\n\")\n",
    "    else:\n",
    "        print(f\"❌ Out of attempts! The number was {secret}.\")\n",
    "\n",
    "if __name__ == \"__main__\":\n",
    "    play_game()"
   ]
  },
  {
   "cell_type": "code",
   "execution_count": null,
   "id": "1f75c521-6ec5-4019-b236-a2fac22febe6",
   "metadata": {},
   "outputs": [],
   "source": []
  }
 ],
 "metadata": {
  "kernelspec": {
   "display_name": "Python 3 (ipykernel)",
   "language": "python",
   "name": "python3"
  },
  "language_info": {
   "codemirror_mode": {
    "name": "ipython",
    "version": 3
   },
   "file_extension": ".py",
   "mimetype": "text/x-python",
   "name": "python",
   "nbconvert_exporter": "python",
   "pygments_lexer": "ipython3",
   "version": "3.13.5"
  }
 },
 "nbformat": 4,
 "nbformat_minor": 5
}
